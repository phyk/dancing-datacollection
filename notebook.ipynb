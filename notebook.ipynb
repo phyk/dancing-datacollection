{
 "cells": [
  {
   "cell_type": "code",
   "execution_count": 1,
   "id": "7af32d68",
   "metadata": {},
   "outputs": [],
   "source": [
    "import polars as pl"
   ]
  },
  {
   "cell_type": "code",
   "execution_count": 8,
   "id": "8c01f137",
   "metadata": {},
   "outputs": [],
   "source": [
    "example = pl.read_parquet(\"data/10_05_2024_Hgr_II_A_Latein/final_scoring.parquet\")"
   ]
  },
  {
   "cell_type": "code",
   "execution_count": 9,
   "id": "c0db3637",
   "metadata": {},
   "outputs": [
    {
     "data": {
      "text/html": [
       "<div><style>\n",
       ".dataframe > thead > tr,\n",
       ".dataframe > tbody > tr {\n",
       "  text-align: right;\n",
       "  white-space: pre-wrap;\n",
       "}\n",
       "</style>\n",
       "<small>shape: (13, 8)</small><table border=\"1\" class=\"dataframe\"><thead><tr><th>placement</th><th>names</th><th>number</th><th>club</th><th>score_LW</th><th>score_TG</th><th>score_QS</th><th>total</th></tr><tr><td>str</td><td>str</td><td>str</td><td>str</td><td>str</td><td>str</td><td>str</td><td>str</td></tr></thead><tbody><tr><td>&quot;1.&quot;</td><td>&quot;Andreas Werilly&nbsp;&nbsp;/&nbsp;&nbsp;Iryna Ivan…</td><td>&quot;14&quot;</td><td>&quot;Austria&quot;</td><td>&quot;1xx&quot;</td><td>&quot;1xx&quot;</td><td>&quot;2xx&quot;</td><td>&quot;7.04545&quot;</td></tr><tr><td>&quot;2.&quot;</td><td>&quot;Bennett Busack&nbsp;&nbsp;/&nbsp;&nbsp;Madlen Lüde…</td><td>&quot;1&quot;</td><td>&quot;Blau-Weiss Buchholz, TSA&quot;</td><td>&quot;2xx&quot;</td><td>&quot;2xx&quot;</td><td>&quot;1xx&quot;</td><td>&quot;8.04445&quot;</td></tr><tr><td>&quot;3.&quot;</td><td>&quot;Alexander Schrammer&nbsp;&nbsp;/&nbsp;&nbsp;Sandin…</td><td>&quot;12&quot;</td><td>&quot;1. TC Ludwigsburg&quot;</td><td>&quot;4xx&quot;</td><td>&quot;3xx&quot;</td><td>&quot;5xx&quot;</td><td>&quot;15.04345&quot;</td></tr><tr><td>&quot;4.&quot;</td><td>&quot;Jan-Hinrich Jacobi&nbsp;&nbsp;/&nbsp;&nbsp;Stefani…</td><td>&quot;5&quot;</td><td>&quot;T.T.C. Rot-Weiß-Silber Bochum&quot;</td><td>&quot;5xx&quot;</td><td>&quot;6-x&quot;</td><td>&quot;4xx&quot;</td><td>&quot;22.04245&quot;</td></tr><tr><td>&quot;5.&quot;</td><td>&quot;Tobias Zander&nbsp;&nbsp;/&nbsp;&nbsp;Magdalena Ku…</td><td>&quot;15&quot;</td><td>&quot;VfL Bochum 1848, TSA&quot;</td><td>&quot;3xx&quot;</td><td>&quot;5-x&quot;</td><td>&quot;3xx&quot;</td><td>&quot;23.03045&quot;</td></tr><tr><td>&hellip;</td><td>&hellip;</td><td>&hellip;</td><td>&hellip;</td><td>&hellip;</td><td>&hellip;</td><td>&hellip;</td><td>&hellip;</td></tr><tr><td>&quot;9.- 10.&quot;</td><td>&quot;Sascha Hess&nbsp;&nbsp;/&nbsp;&nbsp;Beatrice von B…</td><td>&quot;3&quot;</td><td>&quot;TanzZentrum Ludwigshafen&quot;</td><td>&quot;-x&quot;</td><td>&quot;xx&quot;</td><td>&quot;-x&quot;</td><td>&quot;333&quot;</td></tr><tr><td>&quot;9.- 10.&quot;</td><td>&quot;Matty Schiller&nbsp;&nbsp;/&nbsp;&nbsp;Anne Wienho…</td><td>&quot;11&quot;</td><td>&quot;TSA d. TTC Allround Rostock&quot;</td><td>&quot;-x&quot;</td><td>&quot;-x&quot;</td><td>&quot;-x&quot;</td><td>&quot;339&quot;</td></tr><tr><td>&quot;11.&quot;</td><td>&quot;Daniel Jelinski&nbsp;&nbsp;/&nbsp;&nbsp;Lea Gerste…</td><td>&quot;6&quot;</td><td>&quot;TSC Astoria Karlsruhe&quot;</td><td>&quot;-x&quot;</td><td>&quot;-x&quot;</td><td>&quot;-x&quot;</td><td>&quot;143&quot;</td></tr><tr><td>&quot;12.&quot;</td><td>&quot;Florian Hißnauer&nbsp;&nbsp;/&nbsp;&nbsp;Nina Vosk…</td><td>&quot;4&quot;</td><td>&quot;Blau-Weiss Buchholz, TSA&quot;</td><td>&quot;-x&quot;</td><td>&quot;--&quot;</td><td>&quot;-x&quot;</td><td>&quot;041&quot;</td></tr><tr><td>&quot;13.&quot;</td><td>&quot;Michael Ortlieb&nbsp;&nbsp;/&nbsp;&nbsp;Sarah Mark…</td><td>&quot;10&quot;</td><td>&quot;TSC Rot-Gold-Casino Nürnberg&quot;</td><td>&quot;-&quot;</td><td>&quot;x&quot;</td><td>&quot;-&quot;</td><td>&quot;29&quot;</td></tr></tbody></table></div>"
      ],
      "text/plain": [
       "shape: (13, 8)\n",
       "┌───────────┬────────────────┬────────┬────────────────┬──────────┬──────────┬──────────┬──────────┐\n",
       "│ placement ┆ names          ┆ number ┆ club           ┆ score_LW ┆ score_TG ┆ score_QS ┆ total    │\n",
       "│ ---       ┆ ---            ┆ ---    ┆ ---            ┆ ---      ┆ ---      ┆ ---      ┆ ---      │\n",
       "│ str       ┆ str            ┆ str    ┆ str            ┆ str      ┆ str      ┆ str      ┆ str      │\n",
       "╞═══════════╪════════════════╪════════╪════════════════╪══════════╪══════════╪══════════╪══════════╡\n",
       "│ 1.        ┆ Andreas        ┆ 14     ┆ Austria        ┆ 1xx      ┆ 1xx      ┆ 2xx      ┆ 7.04545  │\n",
       "│           ┆ Werilly  /     ┆        ┆                ┆          ┆          ┆          ┆          │\n",
       "│           ┆ Iryna Ivan…    ┆        ┆                ┆          ┆          ┆          ┆          │\n",
       "│ 2.        ┆ Bennett Busack ┆ 1      ┆ Blau-Weiss     ┆ 2xx      ┆ 2xx      ┆ 1xx      ┆ 8.04445  │\n",
       "│           ┆ /  Madlen      ┆        ┆ Buchholz, TSA  ┆          ┆          ┆          ┆          │\n",
       "│           ┆ Lüde…          ┆        ┆                ┆          ┆          ┆          ┆          │\n",
       "│ 3.        ┆ Alexander      ┆ 12     ┆ 1. TC          ┆ 4xx      ┆ 3xx      ┆ 5xx      ┆ 15.04345 │\n",
       "│           ┆ Schrammer  /   ┆        ┆ Ludwigsburg    ┆          ┆          ┆          ┆          │\n",
       "│           ┆ Sandin…        ┆        ┆                ┆          ┆          ┆          ┆          │\n",
       "│ 4.        ┆ Jan-Hinrich    ┆ 5      ┆ T.T.C. Rot-Wei ┆ 5xx      ┆ 6-x      ┆ 4xx      ┆ 22.04245 │\n",
       "│           ┆ Jacobi  /      ┆        ┆ ß-Silber       ┆          ┆          ┆          ┆          │\n",
       "│           ┆ Stefani…       ┆        ┆ Bochum         ┆          ┆          ┆          ┆          │\n",
       "│ 5.        ┆ Tobias Zander  ┆ 15     ┆ VfL Bochum     ┆ 3xx      ┆ 5-x      ┆ 3xx      ┆ 23.03045 │\n",
       "│           ┆ /  Magdalena   ┆        ┆ 1848, TSA      ┆          ┆          ┆          ┆          │\n",
       "│           ┆ Ku…            ┆        ┆                ┆          ┆          ┆          ┆          │\n",
       "│ …         ┆ …              ┆ …      ┆ …              ┆ …        ┆ …        ┆ …        ┆ …        │\n",
       "│ 9.- 10.   ┆ Sascha Hess  / ┆ 3      ┆ TanzZentrum    ┆ -x       ┆ xx       ┆ -x       ┆ 333      │\n",
       "│           ┆ Beatrice von   ┆        ┆ Ludwigshafen   ┆          ┆          ┆          ┆          │\n",
       "│           ┆ B…             ┆        ┆                ┆          ┆          ┆          ┆          │\n",
       "│ 9.- 10.   ┆ Matty Schiller ┆ 11     ┆ TSA d. TTC     ┆ -x       ┆ -x       ┆ -x       ┆ 339      │\n",
       "│           ┆ /  Anne        ┆        ┆ Allround       ┆          ┆          ┆          ┆          │\n",
       "│           ┆ Wienho…        ┆        ┆ Rostock        ┆          ┆          ┆          ┆          │\n",
       "│ 11.       ┆ Daniel         ┆ 6      ┆ TSC Astoria    ┆ -x       ┆ -x       ┆ -x       ┆ 143      │\n",
       "│           ┆ Jelinski  /    ┆        ┆ Karlsruhe      ┆          ┆          ┆          ┆          │\n",
       "│           ┆ Lea Gerste…    ┆        ┆                ┆          ┆          ┆          ┆          │\n",
       "│ 12.       ┆ Florian        ┆ 4      ┆ Blau-Weiss     ┆ -x       ┆ --       ┆ -x       ┆ 041      │\n",
       "│           ┆ Hißnauer  /    ┆        ┆ Buchholz, TSA  ┆          ┆          ┆          ┆          │\n",
       "│           ┆ Nina Vosk…     ┆        ┆                ┆          ┆          ┆          ┆          │\n",
       "│ 13.       ┆ Michael        ┆ 10     ┆ TSC Rot-Gold-C ┆ -        ┆ x        ┆ -        ┆ 29       │\n",
       "│           ┆ Ortlieb  /     ┆        ┆ asino Nürnberg ┆          ┆          ┆          ┆          │\n",
       "│           ┆ Sarah Mark…    ┆        ┆                ┆          ┆          ┆          ┆          │\n",
       "└───────────┴────────────────┴────────┴────────────────┴──────────┴──────────┴──────────┴──────────┘"
      ]
     },
     "execution_count": 9,
     "metadata": {},
     "output_type": "execute_result"
    }
   ],
   "source": [
    "example"
   ]
  },
  {
   "cell_type": "code",
   "execution_count": null,
   "id": "5f1020a1",
   "metadata": {},
   "outputs": [],
   "source": []
  }
 ],
 "metadata": {
  "kernelspec": {
   "display_name": ".venv",
   "language": "python",
   "name": "python3"
  },
  "language_info": {
   "codemirror_mode": {
    "name": "ipython",
    "version": 3
   },
   "file_extension": ".py",
   "mimetype": "text/x-python",
   "name": "python",
   "nbconvert_exporter": "python",
   "pygments_lexer": "ipython3",
   "version": "3.13.7"
  }
 },
 "nbformat": 4,
 "nbformat_minor": 5
}
