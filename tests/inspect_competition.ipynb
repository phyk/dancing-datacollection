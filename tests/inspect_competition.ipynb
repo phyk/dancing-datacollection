{
 "cells": [
  {
   "cell_type": "code",
   "execution_count": 1,
   "metadata": {},
   "outputs": [],
   "source": [
    "import polars as pl\n",
    "import os"
   ]
  },
  {
   "cell_type": "code",
   "execution_count": 3,
   "metadata": {},
   "outputs": [
    {
     "name": "stdout",
     "output_type": "stream",
     "text": [
      "final_scoring.parquet\n"
     ]
    },
    {
     "data": {
      "text/html": [
       "<div><style>\n",
       ".dataframe > thead > tr,\n",
       ".dataframe > tbody > tr {\n",
       "  text-align: right;\n",
       "  white-space: pre-wrap;\n",
       "}\n",
       "</style>\n",
       "<small>shape: (25, 8)</small><table border=\"1\" class=\"dataframe\"><thead><tr><th>placement</th><th>names</th><th>number</th><th>club</th><th>score_LW</th><th>score_TG</th><th>score_QS</th><th>total</th></tr><tr><td>str</td><td>str</td><td>str</td><td>str</td><td>str</td><td>str</td><td>str</td><td>str</td></tr></thead><tbody><tr><td>&quot;1.&quot;</td><td>&quot;Jonathan Kummetz&nbsp;&nbsp;/&nbsp;&nbsp;Elisabeth…</td><td>&quot;610&quot;</td><td>&quot;1. TC Rot-Gold Bayreuth&quot;</td><td>&quot;1,0555&quot;</td><td>&quot;1,0555&quot;</td><td>&quot;1,0555&quot;</td><td>&quot;3.0151515&quot;</td></tr><tr><td>&quot;2.&quot;</td><td>&quot;Konstantin Plöger&nbsp;&nbsp;/&nbsp;&nbsp;Laura Ut…</td><td>&quot;616&quot;</td><td>&quot;TSZ Blau-Gold Casino, Darmstad…</td><td>&quot;2,0454&quot;</td><td>&quot;2,0445&quot;</td><td>&quot;3,0454&quot;</td><td>&quot;7.0121413&quot;</td></tr><tr><td>&quot;3.&quot;</td><td>&quot;Maik Rau&nbsp;&nbsp;/&nbsp;&nbsp;Carina Rau Flensb…</td><td>&quot;617&quot;</td><td>&quot;Flensburger TC&quot;</td><td>&quot;3,0344&quot;</td><td>&quot;6,0555&quot;</td><td>&quot;2,0355&quot;</td><td>&quot;11.0111414&quot;</td></tr><tr><td>&quot;4.&quot;</td><td>&quot;Raphael Michel&nbsp;&nbsp;/&nbsp;&nbsp;Carolin Kim…</td><td>&quot;611&quot;</td><td>&quot;TSC Grün-Gold Heidelberg&quot;</td><td>&quot;5,0344&quot;</td><td>&quot;3,0255&quot;</td><td>&quot;4,0345&quot;</td><td>&quot;12.081314&quot;</td></tr><tr><td>&quot;5.&quot;</td><td>&quot;Sullivan Sadzik&nbsp;&nbsp;/&nbsp;&nbsp;Laura Maye…</td><td>&quot;619&quot;</td><td>&quot;TC Rot-Weiß Kaiserslautern&quot;</td><td>&quot;4,0445&quot;</td><td>&quot;4,0355&quot;</td><td>&quot;5,0355&quot;</td><td>&quot;13.0101415&quot;</td></tr><tr><td>&hellip;</td><td>&hellip;</td><td>&hellip;</td><td>&hellip;</td><td>&hellip;</td><td>&hellip;</td><td>&hellip;</td><td>&hellip;</td></tr><tr><td>&quot;19.- 21.&quot;</td><td>&quot;Daniel Vitt&nbsp;&nbsp;/&nbsp;&nbsp;Tatjana Pankra…</td><td>&quot;623&quot;</td><td>&quot;UTC Münster&quot;</td><td>&quot;3&quot;</td><td>&quot;4&quot;</td><td>&quot;1&quot;</td><td>&quot;8&quot;</td></tr><tr><td>&quot;22.- 23.&quot;</td><td>&quot;Nicolas Koch&nbsp;&nbsp;/&nbsp;&nbsp;Christina Kal…</td><td>&quot;608&quot;</td><td>&quot;Tanzsportclub Solitude Kornwes…</td><td>&quot;2&quot;</td><td>&quot;4&quot;</td><td>&quot;1&quot;</td><td>&quot;7&quot;</td></tr><tr><td>&quot;22.- 23.&quot;</td><td>&quot;Thomas Rösch&nbsp;&nbsp;/&nbsp;&nbsp;Ganna Kovtun …</td><td>&quot;618&quot;</td><td>&quot;TSC Rot-Gold-Casino Nürnberg&quot;</td><td>&quot;1&quot;</td><td>&quot;4&quot;</td><td>&quot;2&quot;</td><td>&quot;7&quot;</td></tr><tr><td>&quot;24.&quot;</td><td>&quot;Lukas Thürmer&nbsp;&nbsp;/&nbsp;&nbsp;Madeleine Kl…</td><td>&quot;622&quot;</td><td>&quot;TC Rot-Weiss Schwäbisch Gmünd&quot;</td><td>&quot;2&quot;</td><td>&quot;3&quot;</td><td>&quot;1&quot;</td><td>&quot;6&quot;</td></tr><tr><td>&quot;25.&quot;</td><td>&quot;Thorsten Olemotz&nbsp;&nbsp;/&nbsp;&nbsp;Jennifer …</td><td>&quot;614&quot;</td><td>&quot;Gießener Tanz-Club 74&quot;</td><td>&quot;2&quot;</td><td>&quot;0&quot;</td><td>&quot;0&quot;</td><td>&quot;2&quot;</td></tr></tbody></table></div>"
      ],
      "text/plain": [
       "shape: (25, 8)\n",
       "┌───────────┬───────────────┬────────┬───────────────┬──────────┬──────────┬──────────┬────────────┐\n",
       "│ placement ┆ names         ┆ number ┆ club          ┆ score_LW ┆ score_TG ┆ score_QS ┆ total      │\n",
       "│ ---       ┆ ---           ┆ ---    ┆ ---           ┆ ---      ┆ ---      ┆ ---      ┆ ---        │\n",
       "│ str       ┆ str           ┆ str    ┆ str           ┆ str      ┆ str      ┆ str      ┆ str        │\n",
       "╞═══════════╪═══════════════╪════════╪═══════════════╪══════════╪══════════╪══════════╪════════════╡\n",
       "│ 1.        ┆ Jonathan      ┆ 610    ┆ 1. TC         ┆ 1,0555   ┆ 1,0555   ┆ 1,0555   ┆ 3.0151515  │\n",
       "│           ┆ Kummetz  /    ┆        ┆ Rot-Gold      ┆          ┆          ┆          ┆            │\n",
       "│           ┆ Elisabeth…    ┆        ┆ Bayreuth      ┆          ┆          ┆          ┆            │\n",
       "│ 2.        ┆ Konstantin    ┆ 616    ┆ TSZ Blau-Gold ┆ 2,0454   ┆ 2,0445   ┆ 3,0454   ┆ 7.0121413  │\n",
       "│           ┆ Plöger  /     ┆        ┆ Casino,       ┆          ┆          ┆          ┆            │\n",
       "│           ┆ Laura Ut…     ┆        ┆ Darmstad…     ┆          ┆          ┆          ┆            │\n",
       "│ 3.        ┆ Maik Rau  /   ┆ 617    ┆ Flensburger   ┆ 3,0344   ┆ 6,0555   ┆ 2,0355   ┆ 11.0111414 │\n",
       "│           ┆ Carina Rau    ┆        ┆ TC            ┆          ┆          ┆          ┆            │\n",
       "│           ┆ Flensb…       ┆        ┆               ┆          ┆          ┆          ┆            │\n",
       "│ 4.        ┆ Raphael       ┆ 611    ┆ TSC Grün-Gold ┆ 5,0344   ┆ 3,0255   ┆ 4,0345   ┆ 12.081314  │\n",
       "│           ┆ Michel  /     ┆        ┆ Heidelberg    ┆          ┆          ┆          ┆            │\n",
       "│           ┆ Carolin Kim…  ┆        ┆               ┆          ┆          ┆          ┆            │\n",
       "│ 5.        ┆ Sullivan      ┆ 619    ┆ TC Rot-Weiß   ┆ 4,0445   ┆ 4,0355   ┆ 5,0355   ┆ 13.0101415 │\n",
       "│           ┆ Sadzik  /     ┆        ┆ Kaiserslauter ┆          ┆          ┆          ┆            │\n",
       "│           ┆ Laura Maye…   ┆        ┆ n             ┆          ┆          ┆          ┆            │\n",
       "│ …         ┆ …             ┆ …      ┆ …             ┆ …        ┆ …        ┆ …        ┆ …          │\n",
       "│ 19.- 21.  ┆ Daniel Vitt   ┆ 623    ┆ UTC Münster   ┆ 3        ┆ 4        ┆ 1        ┆ 8          │\n",
       "│           ┆ /  Tatjana    ┆        ┆               ┆          ┆          ┆          ┆            │\n",
       "│           ┆ Pankra…       ┆        ┆               ┆          ┆          ┆          ┆            │\n",
       "│ 22.- 23.  ┆ Nicolas Koch  ┆ 608    ┆ Tanzsportclub ┆ 2        ┆ 4        ┆ 1        ┆ 7          │\n",
       "│           ┆ /  Christina  ┆        ┆ Solitude      ┆          ┆          ┆          ┆            │\n",
       "│           ┆ Kal…          ┆        ┆ Kornwes…      ┆          ┆          ┆          ┆            │\n",
       "│ 22.- 23.  ┆ Thomas Rösch  ┆ 618    ┆ TSC Rot-Gold- ┆ 1        ┆ 4        ┆ 2        ┆ 7          │\n",
       "│           ┆ /  Ganna      ┆        ┆ Casino        ┆          ┆          ┆          ┆            │\n",
       "│           ┆ Kovtun …      ┆        ┆ Nürnberg      ┆          ┆          ┆          ┆            │\n",
       "│ 24.       ┆ Lukas Thürmer ┆ 622    ┆ TC Rot-Weiss  ┆ 2        ┆ 3        ┆ 1        ┆ 6          │\n",
       "│           ┆ /  Madeleine  ┆        ┆ Schwäbisch    ┆          ┆          ┆          ┆            │\n",
       "│           ┆ Kl…           ┆        ┆ Gmünd         ┆          ┆          ┆          ┆            │\n",
       "│ 25.       ┆ Thorsten      ┆ 614    ┆ Gießener      ┆ 2        ┆ 0        ┆ 0        ┆ 2          │\n",
       "│           ┆ Olemotz  /    ┆        ┆ Tanz-Club 74  ┆          ┆          ┆          ┆            │\n",
       "│           ┆ Jennifer …    ┆        ┆               ┆          ┆          ┆          ┆            │\n",
       "└───────────┴───────────────┴────────┴───────────────┴──────────┴──────────┴──────────┴────────────┘"
      ]
     },
     "metadata": {},
     "output_type": "display_data"
    },
    {
     "name": "stdout",
     "output_type": "stream",
     "text": [
      "judges.parquet\n"
     ]
    },
    {
     "data": {
      "text/html": [
       "<div><style>\n",
       ".dataframe > thead > tr,\n",
       ".dataframe > tbody > tr {\n",
       "  text-align: right;\n",
       "  white-space: pre-wrap;\n",
       "}\n",
       "</style>\n",
       "<small>shape: (5, 3)</small><table border=\"1\" class=\"dataframe\"><thead><tr><th>code</th><th>name</th><th>club</th></tr><tr><td>str</td><td>str</td><td>str</td></tr></thead><tbody><tr><td>&quot;AT&quot;</td><td>&quot;Bärschneider, Marcus&quot;</td><td>&quot;TSC Blau-Gelb Hagen&quot;</td></tr><tr><td>&quot;AX&quot;</td><td>&quot;Block, Robert&quot;</td><td>&quot;Schwarz-Rot-Club Wetzlar&quot;</td></tr><tr><td>&quot;BW&quot;</td><td>&quot;Kirchwehm, Susanne&quot;</td><td>&quot;TSC Ostseebad Schönberg 1984&quot;</td></tr><tr><td>&quot;CJ&quot;</td><td>&quot;Mäser, Erich&quot;</td><td>&quot;TSC Rot-Gold Büdingen&quot;</td></tr><tr><td>&quot;EK&quot;</td><td>&quot;Landauer, Peter&quot;</td><td>&quot;Tanzsportgemeinschaft Bavaria,…</td></tr></tbody></table></div>"
      ],
      "text/plain": [
       "shape: (5, 3)\n",
       "┌──────┬──────────────────────┬─────────────────────────────────┐\n",
       "│ code ┆ name                 ┆ club                            │\n",
       "│ ---  ┆ ---                  ┆ ---                             │\n",
       "│ str  ┆ str                  ┆ str                             │\n",
       "╞══════╪══════════════════════╪═════════════════════════════════╡\n",
       "│ AT   ┆ Bärschneider, Marcus ┆ TSC Blau-Gelb Hagen             │\n",
       "│ AX   ┆ Block, Robert        ┆ Schwarz-Rot-Club Wetzlar        │\n",
       "│ BW   ┆ Kirchwehm, Susanne   ┆ TSC Ostseebad Schönberg 1984    │\n",
       "│ CJ   ┆ Mäser, Erich         ┆ TSC Rot-Gold Büdingen           │\n",
       "│ EK   ┆ Landauer, Peter      ┆ Tanzsportgemeinschaft Bavaria,… │\n",
       "└──────┴──────────────────────┴─────────────────────────────────┘"
      ]
     },
     "metadata": {},
     "output_type": "display_data"
    },
    {
     "name": "stdout",
     "output_type": "stream",
     "text": [
      "participants.parquet\n"
     ]
    },
    {
     "data": {
      "text/html": [
       "<div><style>\n",
       ".dataframe > thead > tr,\n",
       ".dataframe > tbody > tr {\n",
       "  text-align: right;\n",
       "  white-space: pre-wrap;\n",
       "}\n",
       "</style>\n",
       "<small>shape: (6, 4)</small><table border=\"1\" class=\"dataframe\"><thead><tr><th>name_one</th><th>name_two</th><th>club</th><th>number</th></tr><tr><td>str</td><td>str</td><td>str</td><td>i64</td></tr></thead><tbody><tr><td>&quot;Jonathan Kummetz&quot;</td><td>&quot;Elisabeth Findeiß&quot;</td><td>&quot;1. TC Rot-Gold Bayreuth&quot;</td><td>610</td></tr><tr><td>&quot;Konstantin Plöger&quot;</td><td>&quot;Laura Utz&quot;</td><td>&quot;TSZ Blau-Gold Casino, Darmstad…</td><td>616</td></tr><tr><td>&quot;Maik Rau&quot;</td><td>&quot;Carina Rau&quot;</td><td>&quot;Flensburger TC&quot;</td><td>617</td></tr><tr><td>&quot;Raphael Michel&quot;</td><td>&quot;Carolin Kimmig&quot;</td><td>&quot;TSC Grün-Gold Heidelberg&quot;</td><td>611</td></tr><tr><td>&quot;Sullivan Sadzik&quot;</td><td>&quot;Laura Mayer&quot;</td><td>&quot;TC Rot-Weiß Kaiserslautern&quot;</td><td>619</td></tr><tr><td>&quot;Emanuel Ostermaier&quot;</td><td>&quot;Katharina Dropmann&quot;</td><td>&quot;1. Tanzsport Zentrum Freising&quot;</td><td>615</td></tr></tbody></table></div>"
      ],
      "text/plain": [
       "shape: (6, 4)\n",
       "┌────────────────────┬────────────────────┬─────────────────────────────────┬────────┐\n",
       "│ name_one           ┆ name_two           ┆ club                            ┆ number │\n",
       "│ ---                ┆ ---                ┆ ---                             ┆ ---    │\n",
       "│ str                ┆ str                ┆ str                             ┆ i64    │\n",
       "╞════════════════════╪════════════════════╪═════════════════════════════════╪════════╡\n",
       "│ Jonathan Kummetz   ┆ Elisabeth Findeiß  ┆ 1. TC Rot-Gold Bayreuth         ┆ 610    │\n",
       "│ Konstantin Plöger  ┆ Laura Utz          ┆ TSZ Blau-Gold Casino, Darmstad… ┆ 616    │\n",
       "│ Maik Rau           ┆ Carina Rau         ┆ Flensburger TC                  ┆ 617    │\n",
       "│ Raphael Michel     ┆ Carolin Kimmig     ┆ TSC Grün-Gold Heidelberg        ┆ 611    │\n",
       "│ Sullivan Sadzik    ┆ Laura Mayer        ┆ TC Rot-Weiß Kaiserslautern      ┆ 619    │\n",
       "│ Emanuel Ostermaier ┆ Katharina Dropmann ┆ 1. Tanzsport Zentrum Freising   ┆ 615    │\n",
       "└────────────────────┴────────────────────┴─────────────────────────────────┴────────┘"
      ]
     },
     "metadata": {},
     "output_type": "display_data"
    },
    {
     "name": "stdout",
     "output_type": "stream",
     "text": [
      "scores.parquet\n"
     ]
    },
    {
     "data": {
      "text/html": [
       "<div><style>\n",
       ".dataframe > thead > tr,\n",
       ".dataframe > tbody > tr {\n",
       "  text-align: right;\n",
       "  white-space: pre-wrap;\n",
       "}\n",
       "</style>\n",
       "<small>shape: (0, 5)</small><table border=\"1\" class=\"dataframe\"><thead><tr><th>round</th><th>number</th><th>judge_code</th><th>dance</th><th>voted</th></tr><tr><td>null</td><td>null</td><td>null</td><td>null</td><td>null</td></tr></thead><tbody></tbody></table></div>"
      ],
      "text/plain": [
       "shape: (0, 5)\n",
       "┌───────┬────────┬────────────┬───────┬───────┐\n",
       "│ round ┆ number ┆ judge_code ┆ dance ┆ voted │\n",
       "│ ---   ┆ ---    ┆ ---        ┆ ---   ┆ ---   │\n",
       "│ null  ┆ null   ┆ null       ┆ null  ┆ null  │\n",
       "╞═══════╪════════╪════════════╪═══════╪═══════╡\n",
       "└───────┴────────┴────────────┴───────┴───────┘"
      ]
     },
     "metadata": {},
     "output_type": "display_data"
    },
    {
     "name": "stdout",
     "output_type": "stream",
     "text": [
      "committee.parquet\n"
     ]
    },
    {
     "data": {
      "text/html": [
       "<div><style>\n",
       ".dataframe > thead > tr,\n",
       ".dataframe > tbody > tr {\n",
       "  text-align: right;\n",
       "  white-space: pre-wrap;\n",
       "}\n",
       "</style>\n",
       "<small>shape: (5, 3)</small><table border=\"1\" class=\"dataframe\"><thead><tr><th>role</th><th>name</th><th>club</th></tr><tr><td>str</td><td>str</td><td>str</td></tr></thead><tbody><tr><td>&quot;organizer&quot;</td><td>&quot;Hessischer Tanzsportverband&quot;</td><td>&quot;&quot;</td></tr><tr><td>&quot;host&quot;</td><td>&quot;Hessischer Tanzsportverband&quot;</td><td>&quot;&quot;</td></tr><tr><td>&quot;chairperson&quot;</td><td>&quot;Jungbluth, Kai&quot;</td><td>&quot;Tanz-Sport-Club Fischbach&quot;</td></tr><tr><td>&quot;committee_member&quot;</td><td>&quot;Bittighofer, Mechthild&quot;</td><td>&quot;Tanz-Freunde Fulda&quot;</td></tr><tr><td>&quot;protocol&quot;</td><td>&quot;tanzt, EDV-Team Hessen&quot;</td><td>&quot;&quot;</td></tr></tbody></table></div>"
      ],
      "text/plain": [
       "shape: (5, 3)\n",
       "┌──────────────────┬─────────────────────────────┬───────────────────────────┐\n",
       "│ role             ┆ name                        ┆ club                      │\n",
       "│ ---              ┆ ---                         ┆ ---                       │\n",
       "│ str              ┆ str                         ┆ str                       │\n",
       "╞══════════════════╪═════════════════════════════╪═══════════════════════════╡\n",
       "│ organizer        ┆ Hessischer Tanzsportverband ┆                           │\n",
       "│ host             ┆ Hessischer Tanzsportverband ┆                           │\n",
       "│ chairperson      ┆ Jungbluth, Kai              ┆ Tanz-Sport-Club Fischbach │\n",
       "│ committee_member ┆ Bittighofer, Mechthild      ┆ Tanz-Freunde Fulda        │\n",
       "│ protocol         ┆ tanzt, EDV-Team Hessen      ┆                           │\n",
       "└──────────────────┴─────────────────────────────┴───────────────────────────┘"
      ]
     },
     "metadata": {},
     "output_type": "display_data"
    }
   ],
   "source": [
    "dir = \"../data\"\n",
    "files = os.listdir(dir)\n",
    "\n",
    "for file in files:\n",
    "    if file.endswith(\".parquet\"):\n",
    "        df = pl.read_parquet(os.path.join(dir, file))\n",
    "        print(file)\n",
    "        display(df)"
   ]
  },
  {
   "cell_type": "code",
   "execution_count": null,
   "metadata": {},
   "outputs": [],
   "source": []
  }
 ],
 "metadata": {
  "kernelspec": {
   "display_name": ".venv",
   "language": "python",
   "name": "python3"
  },
  "language_info": {
   "codemirror_mode": {
    "name": "ipython",
    "version": 3
   },
   "file_extension": ".py",
   "mimetype": "text/x-python",
   "name": "python",
   "nbconvert_exporter": "python",
   "pygments_lexer": "ipython3",
   "version": "3.13.5"
  }
 },
 "nbformat": 4,
 "nbformat_minor": 2
}
