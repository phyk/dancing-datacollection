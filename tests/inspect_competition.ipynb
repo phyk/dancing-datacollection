{
 "cells": [
  {
   "cell_type": "code",
   "execution_count": 1,
   "metadata": {},
   "outputs": [],
   "source": [
    "import polars as pl\n",
    "import os"
   ]
  },
  {
   "cell_type": "code",
   "execution_count": 2,
   "metadata": {},
   "outputs": [
    {
     "data": {
      "text/plain": [
       "['Elisabeth Findeiß 1. TC Rot-Gold Bayreuth',\n",
       " 'Laura Utz TSZ Blau-Gold Casino, Darmstadt',\n",
       " 'Carina Rau Flensburger TC',\n",
       " 'Carolin Kimmig TSC Grün-Gold Heidelberg',\n",
       " 'Laura Mayer TC Rot-Weiß Kaiserslautern',\n",
       " 'Katharina Dropmann 1. Tanzsport Zentrum Freising']"
      ]
     },
     "execution_count": 2,
     "metadata": {},
     "output_type": "execute_result"
    }
   ],
   "source": [
    "dir = \"../data/51-1105_ot_hgr2dstd\"\n",
    "files = os.listdir(dir)\n",
    " \n",
    "df = pl.read_parquet(os.path.join(dir, \"participants.parquet\"))\n",
    "df[\"name_two\"].to_list()"
   ]
  },
  {
   "cell_type": "code",
   "execution_count": null,
   "metadata": {},
   "outputs": [],
   "source": []
  },
  {
   "cell_type": "code",
   "execution_count": null,
   "metadata": {},
   "outputs": [],
   "source": []
  }
 ],
 "metadata": {
  "kernelspec": {
   "display_name": ".venv",
   "language": "python",
   "name": "python3"
  },
  "language_info": {
   "codemirror_mode": {
    "name": "ipython",
    "version": 3
   },
   "file_extension": ".py",
   "mimetype": "text/x-python",
   "name": "python",
   "nbconvert_exporter": "python",
   "pygments_lexer": "ipython3",
   "version": "3.13.5"
  }
 },
 "nbformat": 4,
 "nbformat_minor": 2
}
