{
 "cells": [
  {
   "cell_type": "code",
   "execution_count": 1,
   "metadata": {},
   "outputs": [],
   "source": [
    "import polars as pl\n",
    "import os"
   ]
  },
  {
   "cell_type": "code",
   "execution_count": 4,
   "metadata": {},
   "outputs": [
    {
     "data": {
      "text/html": [
       "<div><style>\n",
       ".dataframe > thead > tr,\n",
       ".dataframe > tbody > tr {\n",
       "  text-align: right;\n",
       "  white-space: pre-wrap;\n",
       "}\n",
       "</style>\n",
       "<small>shape: (6, 9)</small><table border=\"1\" class=\"dataframe\"><thead><tr><th>placement</th><th>names</th><th>number</th><th>club</th><th>round</th><th>score_LW</th><th>score_TG</th><th>score_QU</th><th>score_PZ</th></tr><tr><td>null</td><td>null</td><td>str</td><td>str</td><td>null</td><td>null</td><td>null</td><td>null</td><td>null</td></tr></thead><tbody><tr><td>null</td><td>null</td><td>&quot;610&quot;</td><td>&quot;1. TC Rot-Gold Bayreuth&quot;</td><td>null</td><td>null</td><td>null</td><td>null</td><td>null</td></tr><tr><td>null</td><td>null</td><td>&quot;616&quot;</td><td>&quot;TSZ Blau-Gold Casino, Darmstad…</td><td>null</td><td>null</td><td>null</td><td>null</td><td>null</td></tr><tr><td>null</td><td>null</td><td>&quot;617&quot;</td><td>&quot;Flensburger TC&quot;</td><td>null</td><td>null</td><td>null</td><td>null</td><td>null</td></tr><tr><td>null</td><td>null</td><td>&quot;611&quot;</td><td>&quot;TSC Grün-Gold Heidelberg&quot;</td><td>null</td><td>null</td><td>null</td><td>null</td><td>null</td></tr><tr><td>null</td><td>null</td><td>&quot;619&quot;</td><td>&quot;TC Rot-Weiß Kaiserslautern&quot;</td><td>null</td><td>null</td><td>null</td><td>null</td><td>null</td></tr><tr><td>null</td><td>null</td><td>&quot;615&quot;</td><td>&quot;1. Tanzsport Zentrum Freising&quot;</td><td>null</td><td>null</td><td>null</td><td>null</td><td>null</td></tr></tbody></table></div>"
      ],
      "text/plain": [
       "shape: (6, 9)\n",
       "┌───────────┬───────┬────────┬─────────────────────┬───┬──────────┬──────────┬──────────┬──────────┐\n",
       "│ placement ┆ names ┆ number ┆ club                ┆ … ┆ score_LW ┆ score_TG ┆ score_QU ┆ score_PZ │\n",
       "│ ---       ┆ ---   ┆ ---    ┆ ---                 ┆   ┆ ---      ┆ ---      ┆ ---      ┆ ---      │\n",
       "│ null      ┆ null  ┆ str    ┆ str                 ┆   ┆ null     ┆ null     ┆ null     ┆ null     │\n",
       "╞═══════════╪═══════╪════════╪═════════════════════╪═══╪══════════╪══════════╪══════════╪══════════╡\n",
       "│ null      ┆ null  ┆ 610    ┆ 1. TC Rot-Gold      ┆ … ┆ null     ┆ null     ┆ null     ┆ null     │\n",
       "│           ┆       ┆        ┆ Bayreuth            ┆   ┆          ┆          ┆          ┆          │\n",
       "│ null      ┆ null  ┆ 616    ┆ TSZ Blau-Gold       ┆ … ┆ null     ┆ null     ┆ null     ┆ null     │\n",
       "│           ┆       ┆        ┆ Casino, Darmstad…   ┆   ┆          ┆          ┆          ┆          │\n",
       "│ null      ┆ null  ┆ 617    ┆ Flensburger TC      ┆ … ┆ null     ┆ null     ┆ null     ┆ null     │\n",
       "│ null      ┆ null  ┆ 611    ┆ TSC Grün-Gold       ┆ … ┆ null     ┆ null     ┆ null     ┆ null     │\n",
       "│           ┆       ┆        ┆ Heidelberg          ┆   ┆          ┆          ┆          ┆          │\n",
       "│ null      ┆ null  ┆ 619    ┆ TC Rot-Weiß         ┆ … ┆ null     ┆ null     ┆ null     ┆ null     │\n",
       "│           ┆       ┆        ┆ Kaiserslautern      ┆   ┆          ┆          ┆          ┆          │\n",
       "│ null      ┆ null  ┆ 615    ┆ 1. Tanzsport        ┆ … ┆ null     ┆ null     ┆ null     ┆ null     │\n",
       "│           ┆       ┆        ┆ Zentrum Freising    ┆   ┆          ┆          ┆          ┆          │\n",
       "└───────────┴───────┴────────┴─────────────────────┴───┴──────────┴──────────┴──────────┴──────────┘"
      ]
     },
     "execution_count": 4,
     "metadata": {},
     "output_type": "execute_result"
    }
   ],
   "source": [
    "dir = \"../data/51-1105_ot_hgr2dstd\"\n",
    "files = os.listdir(dir)\n",
    " \n",
    "df = pl.read_parquet(os.path.join(dir, \"participants.parquet\"))\n",
    "df"
   ]
  }
 ],
 "metadata": {
  "kernelspec": {
   "display_name": ".venv",
   "language": "python",
   "name": "python3"
  },
  "language_info": {
   "codemirror_mode": {
    "name": "ipython",
    "version": 3
   },
   "file_extension": ".py",
   "mimetype": "text/x-python",
   "name": "python",
   "nbconvert_exporter": "python",
   "pygments_lexer": "ipython3",
   "version": "3.13.5"
  }
 },
 "nbformat": 4,
 "nbformat_minor": 2
}
