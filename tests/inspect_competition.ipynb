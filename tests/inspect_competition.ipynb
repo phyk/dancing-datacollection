{
 "cells": [
  {
   "cell_type": "code",
   "execution_count": 3,
   "metadata": {},
   "outputs": [],
   "source": [
    "import polars as pl\n",
    "import os"
   ]
  },
  {
   "cell_type": "code",
   "execution_count": 9,
   "metadata": {},
   "outputs": [
    {
     "name": "stdout",
     "output_type": "stream",
     "text": [
      "final_scoring.parquet\n"
     ]
    },
    {
     "data": {
      "text/html": [
       "<div><style>\n",
       ".dataframe > thead > tr,\n",
       ".dataframe > tbody > tr {\n",
       "  text-align: right;\n",
       "  white-space: pre-wrap;\n",
       "}\n",
       "</style>\n",
       "<small>shape: (13, 8)</small><table border=\"1\" class=\"dataframe\"><thead><tr><th>placement</th><th>names</th><th>number</th><th>club</th><th>score_LW</th><th>score_TG</th><th>score_QS</th><th>total</th></tr><tr><td>str</td><td>str</td><td>str</td><td>str</td><td>str</td><td>str</td><td>str</td><td>str</td></tr></thead><tbody><tr><td>&quot;1.&quot;</td><td>&quot;Andreas Werilly&nbsp;&nbsp;/&nbsp;&nbsp;Iryna Ivan…</td><td>&quot;14&quot;</td><td>&quot;Austria&quot;</td><td>&quot;1xx&quot;</td><td>&quot;1xx&quot;</td><td>&quot;2xx&quot;</td><td>&quot;7.04545&quot;</td></tr><tr><td>&quot;2.&quot;</td><td>&quot;Bennett Busack&nbsp;&nbsp;/&nbsp;&nbsp;Madlen Lüde…</td><td>&quot;1&quot;</td><td>&quot;Blau-Weiss Buchholz, TSA&quot;</td><td>&quot;2xx&quot;</td><td>&quot;2xx&quot;</td><td>&quot;1xx&quot;</td><td>&quot;8.04445&quot;</td></tr><tr><td>&quot;3.&quot;</td><td>&quot;Alexander Schrammer&nbsp;&nbsp;/&nbsp;&nbsp;Sandin…</td><td>&quot;12&quot;</td><td>&quot;1. TC Ludwigsburg&quot;</td><td>&quot;4xx&quot;</td><td>&quot;3xx&quot;</td><td>&quot;5xx&quot;</td><td>&quot;15.04345&quot;</td></tr><tr><td>&quot;4.&quot;</td><td>&quot;Jan-Hinrich Jacobi&nbsp;&nbsp;/&nbsp;&nbsp;Stefani…</td><td>&quot;5&quot;</td><td>&quot;T.T.C. Rot-Weiß-Silber Bochum&quot;</td><td>&quot;5xx&quot;</td><td>&quot;6-x&quot;</td><td>&quot;4xx&quot;</td><td>&quot;22.04245&quot;</td></tr><tr><td>&quot;5.&quot;</td><td>&quot;Tobias Zander&nbsp;&nbsp;/&nbsp;&nbsp;Magdalena Ku…</td><td>&quot;15&quot;</td><td>&quot;VfL Bochum 1848, TSA&quot;</td><td>&quot;3xx&quot;</td><td>&quot;5-x&quot;</td><td>&quot;3xx&quot;</td><td>&quot;23.03045&quot;</td></tr><tr><td>&hellip;</td><td>&hellip;</td><td>&hellip;</td><td>&hellip;</td><td>&hellip;</td><td>&hellip;</td><td>&hellip;</td><td>&hellip;</td></tr><tr><td>&quot;9.- 10.&quot;</td><td>&quot;Sascha Hess&nbsp;&nbsp;/&nbsp;&nbsp;Beatrice von B…</td><td>&quot;3&quot;</td><td>&quot;TanzZentrum Ludwigshafen&quot;</td><td>&quot;-x&quot;</td><td>&quot;xx&quot;</td><td>&quot;-x&quot;</td><td>&quot;333&quot;</td></tr><tr><td>&quot;9.- 10.&quot;</td><td>&quot;Matty Schiller&nbsp;&nbsp;/&nbsp;&nbsp;Anne Wienho…</td><td>&quot;11&quot;</td><td>&quot;TSA d. TTC Allround Rostock&quot;</td><td>&quot;-x&quot;</td><td>&quot;-x&quot;</td><td>&quot;-x&quot;</td><td>&quot;339&quot;</td></tr><tr><td>&quot;11.&quot;</td><td>&quot;Daniel Jelinski&nbsp;&nbsp;/&nbsp;&nbsp;Lea Gerste…</td><td>&quot;6&quot;</td><td>&quot;TSC Astoria Karlsruhe&quot;</td><td>&quot;-x&quot;</td><td>&quot;-x&quot;</td><td>&quot;-x&quot;</td><td>&quot;143&quot;</td></tr><tr><td>&quot;12.&quot;</td><td>&quot;Florian Hißnauer&nbsp;&nbsp;/&nbsp;&nbsp;Nina Vosk…</td><td>&quot;4&quot;</td><td>&quot;Blau-Weiss Buchholz, TSA&quot;</td><td>&quot;-x&quot;</td><td>&quot;--&quot;</td><td>&quot;-x&quot;</td><td>&quot;041&quot;</td></tr><tr><td>&quot;13.&quot;</td><td>&quot;Michael Ortlieb&nbsp;&nbsp;/&nbsp;&nbsp;Sarah Mark…</td><td>&quot;10&quot;</td><td>&quot;TSC Rot-Gold-Casino Nürnberg&quot;</td><td>&quot;-&quot;</td><td>&quot;x&quot;</td><td>&quot;-&quot;</td><td>&quot;29&quot;</td></tr></tbody></table></div>"
      ],
      "text/plain": [
       "shape: (13, 8)\n",
       "┌───────────┬────────────────┬────────┬────────────────┬──────────┬──────────┬──────────┬──────────┐\n",
       "│ placement ┆ names          ┆ number ┆ club           ┆ score_LW ┆ score_TG ┆ score_QS ┆ total    │\n",
       "│ ---       ┆ ---            ┆ ---    ┆ ---            ┆ ---      ┆ ---      ┆ ---      ┆ ---      │\n",
       "│ str       ┆ str            ┆ str    ┆ str            ┆ str      ┆ str      ┆ str      ┆ str      │\n",
       "╞═══════════╪════════════════╪════════╪════════════════╪══════════╪══════════╪══════════╪══════════╡\n",
       "│ 1.        ┆ Andreas        ┆ 14     ┆ Austria        ┆ 1xx      ┆ 1xx      ┆ 2xx      ┆ 7.04545  │\n",
       "│           ┆ Werilly  /     ┆        ┆                ┆          ┆          ┆          ┆          │\n",
       "│           ┆ Iryna Ivan…    ┆        ┆                ┆          ┆          ┆          ┆          │\n",
       "│ 2.        ┆ Bennett Busack ┆ 1      ┆ Blau-Weiss     ┆ 2xx      ┆ 2xx      ┆ 1xx      ┆ 8.04445  │\n",
       "│           ┆ /  Madlen      ┆        ┆ Buchholz, TSA  ┆          ┆          ┆          ┆          │\n",
       "│           ┆ Lüde…          ┆        ┆                ┆          ┆          ┆          ┆          │\n",
       "│ 3.        ┆ Alexander      ┆ 12     ┆ 1. TC          ┆ 4xx      ┆ 3xx      ┆ 5xx      ┆ 15.04345 │\n",
       "│           ┆ Schrammer  /   ┆        ┆ Ludwigsburg    ┆          ┆          ┆          ┆          │\n",
       "│           ┆ Sandin…        ┆        ┆                ┆          ┆          ┆          ┆          │\n",
       "│ 4.        ┆ Jan-Hinrich    ┆ 5      ┆ T.T.C. Rot-Wei ┆ 5xx      ┆ 6-x      ┆ 4xx      ┆ 22.04245 │\n",
       "│           ┆ Jacobi  /      ┆        ┆ ß-Silber       ┆          ┆          ┆          ┆          │\n",
       "│           ┆ Stefani…       ┆        ┆ Bochum         ┆          ┆          ┆          ┆          │\n",
       "│ 5.        ┆ Tobias Zander  ┆ 15     ┆ VfL Bochum     ┆ 3xx      ┆ 5-x      ┆ 3xx      ┆ 23.03045 │\n",
       "│           ┆ /  Magdalena   ┆        ┆ 1848, TSA      ┆          ┆          ┆          ┆          │\n",
       "│           ┆ Ku…            ┆        ┆                ┆          ┆          ┆          ┆          │\n",
       "│ …         ┆ …              ┆ …      ┆ …              ┆ …        ┆ …        ┆ …        ┆ …        │\n",
       "│ 9.- 10.   ┆ Sascha Hess  / ┆ 3      ┆ TanzZentrum    ┆ -x       ┆ xx       ┆ -x       ┆ 333      │\n",
       "│           ┆ Beatrice von   ┆        ┆ Ludwigshafen   ┆          ┆          ┆          ┆          │\n",
       "│           ┆ B…             ┆        ┆                ┆          ┆          ┆          ┆          │\n",
       "│ 9.- 10.   ┆ Matty Schiller ┆ 11     ┆ TSA d. TTC     ┆ -x       ┆ -x       ┆ -x       ┆ 339      │\n",
       "│           ┆ /  Anne        ┆        ┆ Allround       ┆          ┆          ┆          ┆          │\n",
       "│           ┆ Wienho…        ┆        ┆ Rostock        ┆          ┆          ┆          ┆          │\n",
       "│ 11.       ┆ Daniel         ┆ 6      ┆ TSC Astoria    ┆ -x       ┆ -x       ┆ -x       ┆ 143      │\n",
       "│           ┆ Jelinski  /    ┆        ┆ Karlsruhe      ┆          ┆          ┆          ┆          │\n",
       "│           ┆ Lea Gerste…    ┆        ┆                ┆          ┆          ┆          ┆          │\n",
       "│ 12.       ┆ Florian        ┆ 4      ┆ Blau-Weiss     ┆ -x       ┆ --       ┆ -x       ┆ 041      │\n",
       "│           ┆ Hißnauer  /    ┆        ┆ Buchholz, TSA  ┆          ┆          ┆          ┆          │\n",
       "│           ┆ Nina Vosk…     ┆        ┆                ┆          ┆          ┆          ┆          │\n",
       "│ 13.       ┆ Michael        ┆ 10     ┆ TSC Rot-Gold-C ┆ -        ┆ x        ┆ -        ┆ 29       │\n",
       "│           ┆ Ortlieb  /     ┆        ┆ asino Nürnberg ┆          ┆          ┆          ┆          │\n",
       "│           ┆ Sarah Mark…    ┆        ┆                ┆          ┆          ┆          ┆          │\n",
       "└───────────┴────────────────┴────────┴────────────────┴──────────┴──────────┴──────────┴──────────┘"
      ]
     },
     "metadata": {},
     "output_type": "display_data"
    },
    {
     "name": "stdout",
     "output_type": "stream",
     "text": [
      "judges.parquet\n"
     ]
    },
    {
     "data": {
      "text/html": [
       "<div><style>\n",
       ".dataframe > thead > tr,\n",
       ".dataframe > tbody > tr {\n",
       "  text-align: right;\n",
       "  white-space: pre-wrap;\n",
       "}\n",
       "</style>\n",
       "<small>shape: (9, 3)</small><table border=\"1\" class=\"dataframe\"><thead><tr><th>code</th><th>name</th><th>club</th></tr><tr><td>str</td><td>str</td><td>str</td></tr></thead><tbody><tr><td>&quot;BA&quot;</td><td>&quot;Cibis, Andrzej&quot;</td><td>&quot;TTC München&quot;</td></tr><tr><td>&quot;BZ&quot;</td><td>&quot;Korovay, Illya&quot;</td><td>&quot;TSC Rot-Gold-Casino Nürnberg&quot;</td></tr><tr><td>&quot;CG&quot;</td><td>&quot;Luckow, Julia&quot;</td><td>&quot;TSC Excelsior Dresden&quot;</td></tr><tr><td>&quot;CM&quot;</td><td>&quot;Müller, Tatiana&quot;</td><td>&quot;TSC Rot-Weiß Lorsch Bergstrass…</td></tr><tr><td>&quot;CS&quot;</td><td>&quot;Plotnikov, Eugen&quot;</td><td>&quot;TSC Saltatio Neustadt im TV 18…</td></tr><tr><td>&quot;CT&quot;</td><td>&quot;Polyakova, Polina&quot;</td><td>&quot;TSZ Exzellenz Baden-Baden&quot;</td></tr><tr><td>&quot;CY&quot;</td><td>&quot;Röhrig, Kay&quot;</td><td>&quot;TSC Metropol Hofheim&quot;</td></tr><tr><td>&quot;DH&quot;</td><td>&quot;Täschner, Fabian&quot;</td><td>&quot;Grün-Gold-Club Bremen&quot;</td></tr><tr><td>&quot;FO&quot;</td><td>&quot;Kgobokoe, Tebogo&quot;</td><td>&quot;South Africa&quot;</td></tr></tbody></table></div>"
      ],
      "text/plain": [
       "shape: (9, 3)\n",
       "┌──────┬───────────────────┬─────────────────────────────────┐\n",
       "│ code ┆ name              ┆ club                            │\n",
       "│ ---  ┆ ---               ┆ ---                             │\n",
       "│ str  ┆ str               ┆ str                             │\n",
       "╞══════╪═══════════════════╪═════════════════════════════════╡\n",
       "│ BA   ┆ Cibis, Andrzej    ┆ TTC München                     │\n",
       "│ BZ   ┆ Korovay, Illya    ┆ TSC Rot-Gold-Casino Nürnberg    │\n",
       "│ CG   ┆ Luckow, Julia     ┆ TSC Excelsior Dresden           │\n",
       "│ CM   ┆ Müller, Tatiana   ┆ TSC Rot-Weiß Lorsch Bergstrass… │\n",
       "│ CS   ┆ Plotnikov, Eugen  ┆ TSC Saltatio Neustadt im TV 18… │\n",
       "│ CT   ┆ Polyakova, Polina ┆ TSZ Exzellenz Baden-Baden       │\n",
       "│ CY   ┆ Röhrig, Kay       ┆ TSC Metropol Hofheim            │\n",
       "│ DH   ┆ Täschner, Fabian  ┆ Grün-Gold-Club Bremen           │\n",
       "│ FO   ┆ Kgobokoe, Tebogo  ┆ South Africa                    │\n",
       "└──────┴───────────────────┴─────────────────────────────────┘"
      ]
     },
     "metadata": {},
     "output_type": "display_data"
    },
    {
     "name": "stdout",
     "output_type": "stream",
     "text": [
      "participants.parquet\n"
     ]
    },
    {
     "data": {
      "text/html": [
       "<div><style>\n",
       ".dataframe > thead > tr,\n",
       ".dataframe > tbody > tr {\n",
       "  text-align: right;\n",
       "  white-space: pre-wrap;\n",
       "}\n",
       "</style>\n",
       "<small>shape: (6, 9)</small><table border=\"1\" class=\"dataframe\"><thead><tr><th>placement</th><th>names</th><th>number</th><th>club</th><th>round</th><th>score_LW</th><th>score_TG</th><th>score_QU</th><th>score_PZ</th></tr><tr><td>str</td><td>str</td><td>str</td><td>str</td><td>str</td><td>str</td><td>str</td><td>str</td><td>str</td></tr></thead><tbody><tr><td>&quot;1.&quot;</td><td>&quot;Andreas Werilly&nbsp;&nbsp;/&nbsp;&nbsp;Iryna Ivan…</td><td>&quot;14&quot;</td><td>&quot;Austria&quot;</td><td>&quot;Endrunde&quot;</td><td>&quot;1.0&quot;</td><td>&quot;1.0&quot;</td><td>&quot;1.0&quot;</td><td>&quot;2.0&quot;</td></tr><tr><td>&quot;2.&quot;</td><td>&quot;Bennett Busack&nbsp;&nbsp;/&nbsp;&nbsp;Madlen Lüde…</td><td>&quot;1&quot;</td><td>&quot;Blau-Weiss Buchholz, TSA&quot;</td><td>&quot;Endrunde&quot;</td><td>&quot;2.0&quot;</td><td>&quot;2.0&quot;</td><td>&quot;2.0&quot;</td><td>&quot;1.0&quot;</td></tr><tr><td>&quot;3.&quot;</td><td>&quot;Alexander Schrammer&nbsp;&nbsp;/&nbsp;&nbsp;Sandin…</td><td>&quot;12&quot;</td><td>&quot;1. TC Ludwigsburg&quot;</td><td>&quot;Endrunde&quot;</td><td>&quot;3.0&quot;</td><td>&quot;3.0&quot;</td><td>&quot;3.0&quot;</td><td>&quot;3.0&quot;</td></tr><tr><td>&quot;4.&quot;</td><td>&quot;Jan-Hinrich Jacobi&nbsp;&nbsp;/&nbsp;&nbsp;Stefani…</td><td>&quot;5&quot;</td><td>&quot;T.T.C. Rot-Weiß-Silber Bochum&quot;</td><td>&quot;Endrunde&quot;</td><td>&quot;4.0&quot;</td><td>&quot;4.0&quot;</td><td>&quot;4.0&quot;</td><td>&quot;5.0&quot;</td></tr><tr><td>&quot;5.&quot;</td><td>&quot;Tobias Zander&nbsp;&nbsp;/&nbsp;&nbsp;Magdalena Ku…</td><td>&quot;15&quot;</td><td>&quot;VfL Bochum 1848, TSA&quot;</td><td>&quot;Endrunde&quot;</td><td>&quot;5.0&quot;</td><td>&quot;5.0&quot;</td><td>&quot;5.0&quot;</td><td>&quot;4.0&quot;</td></tr><tr><td>&quot;6.&quot;</td><td>&quot;Martin Neukamp&nbsp;&nbsp;/&nbsp;&nbsp;Vivian Dörr…</td><td>&quot;8&quot;</td><td>&quot;TTC Rot-Gold Köln&quot;</td><td>&quot;Endrunde&quot;</td><td>&quot;6.0&quot;</td><td>&quot;6.0&quot;</td><td>&quot;6.0&quot;</td><td>&quot;6.0&quot;</td></tr></tbody></table></div>"
      ],
      "text/plain": [
       "shape: (6, 9)\n",
       "┌───────────┬──────────────┬────────┬──────────────┬───┬──────────┬──────────┬──────────┬──────────┐\n",
       "│ placement ┆ names        ┆ number ┆ club         ┆ … ┆ score_LW ┆ score_TG ┆ score_QU ┆ score_PZ │\n",
       "│ ---       ┆ ---          ┆ ---    ┆ ---          ┆   ┆ ---      ┆ ---      ┆ ---      ┆ ---      │\n",
       "│ str       ┆ str          ┆ str    ┆ str          ┆   ┆ str      ┆ str      ┆ str      ┆ str      │\n",
       "╞═══════════╪══════════════╪════════╪══════════════╪═══╪══════════╪══════════╪══════════╪══════════╡\n",
       "│ 1.        ┆ Andreas      ┆ 14     ┆ Austria      ┆ … ┆ 1.0      ┆ 1.0      ┆ 1.0      ┆ 2.0      │\n",
       "│           ┆ Werilly  /   ┆        ┆              ┆   ┆          ┆          ┆          ┆          │\n",
       "│           ┆ Iryna Ivan…  ┆        ┆              ┆   ┆          ┆          ┆          ┆          │\n",
       "│ 2.        ┆ Bennett      ┆ 1      ┆ Blau-Weiss   ┆ … ┆ 2.0      ┆ 2.0      ┆ 2.0      ┆ 1.0      │\n",
       "│           ┆ Busack  /    ┆        ┆ Buchholz,    ┆   ┆          ┆          ┆          ┆          │\n",
       "│           ┆ Madlen Lüde… ┆        ┆ TSA          ┆   ┆          ┆          ┆          ┆          │\n",
       "│ 3.        ┆ Alexander    ┆ 12     ┆ 1. TC        ┆ … ┆ 3.0      ┆ 3.0      ┆ 3.0      ┆ 3.0      │\n",
       "│           ┆ Schrammer  / ┆        ┆ Ludwigsburg  ┆   ┆          ┆          ┆          ┆          │\n",
       "│           ┆ Sandin…      ┆        ┆              ┆   ┆          ┆          ┆          ┆          │\n",
       "│ 4.        ┆ Jan-Hinrich  ┆ 5      ┆ T.T.C. Rot-W ┆ … ┆ 4.0      ┆ 4.0      ┆ 4.0      ┆ 5.0      │\n",
       "│           ┆ Jacobi  /    ┆        ┆ eiß-Silber   ┆   ┆          ┆          ┆          ┆          │\n",
       "│           ┆ Stefani…     ┆        ┆ Bochum       ┆   ┆          ┆          ┆          ┆          │\n",
       "│ 5.        ┆ Tobias       ┆ 15     ┆ VfL Bochum   ┆ … ┆ 5.0      ┆ 5.0      ┆ 5.0      ┆ 4.0      │\n",
       "│           ┆ Zander  /    ┆        ┆ 1848, TSA    ┆   ┆          ┆          ┆          ┆          │\n",
       "│           ┆ Magdalena    ┆        ┆              ┆   ┆          ┆          ┆          ┆          │\n",
       "│           ┆ Ku…          ┆        ┆              ┆   ┆          ┆          ┆          ┆          │\n",
       "│ 6.        ┆ Martin       ┆ 8      ┆ TTC Rot-Gold ┆ … ┆ 6.0      ┆ 6.0      ┆ 6.0      ┆ 6.0      │\n",
       "│           ┆ Neukamp  /   ┆        ┆ Köln         ┆   ┆          ┆          ┆          ┆          │\n",
       "│           ┆ Vivian Dörr… ┆        ┆              ┆   ┆          ┆          ┆          ┆          │\n",
       "└───────────┴──────────────┴────────┴──────────────┴───┴──────────┴──────────┴──────────┴──────────┘"
      ]
     },
     "metadata": {},
     "output_type": "display_data"
    },
    {
     "name": "stdout",
     "output_type": "stream",
     "text": [
      "scores.parquet\n"
     ]
    },
    {
     "data": {
      "text/html": [
       "<div><style>\n",
       ".dataframe > thead > tr,\n",
       ".dataframe > tbody > tr {\n",
       "  text-align: right;\n",
       "  white-space: pre-wrap;\n",
       "}\n",
       "</style>\n",
       "<small>shape: (103, 3)</small><table border=\"1\" class=\"dataframe\"><thead><tr><th>round</th><th>number</th><th>names</th></tr><tr><td>str</td><td>str</td><td>str</td></tr></thead><tbody><tr><td>&quot;Ergebnis der Vorrunde&quot;</td><td>&quot;1Bennett Busack&nbsp;&nbsp;/&nbsp;&nbsp;Madlen Lüd…</td><td>&quot;Bennett Busack&nbsp;&nbsp;/&nbsp;&nbsp;Madlen Lüde…</td></tr><tr><td>&quot;Ergebnis der Vorrunde&quot;</td><td>&quot;2Dirk Döhler&nbsp;&nbsp;/&nbsp;&nbsp;Anna Maria Th…</td><td>&quot;Dirk Döhler&nbsp;&nbsp;/&nbsp;&nbsp;Anna Maria Thi…</td></tr><tr><td>&quot;Ergebnis der Vorrunde&quot;</td><td>&quot;3Sascha Hess&nbsp;&nbsp;/&nbsp;&nbsp;Beatrice von …</td><td>&quot;Sascha Hess&nbsp;&nbsp;/&nbsp;&nbsp;Beatrice von B…</td></tr><tr><td>&quot;Ergebnis der Vorrunde&quot;</td><td>&quot;4Florian Hißnauer&nbsp;&nbsp;/&nbsp;&nbsp;Nina Vos…</td><td>&quot;Florian Hißnauer&nbsp;&nbsp;/&nbsp;&nbsp;Nina Vosk…</td></tr><tr><td>&quot;Ergebnis der Vorrunde&quot;</td><td>&quot;5Jan-Hinrich Jacobi&nbsp;&nbsp;/&nbsp;&nbsp;Stefan…</td><td>&quot;Jan-Hinrich Jacobi&nbsp;&nbsp;/&nbsp;&nbsp;Stefani…</td></tr><tr><td>&hellip;</td><td>&hellip;</td><td>&hellip;</td></tr><tr><td>&quot;Ergebnis der 1. Zwischenrunde&quot;</td><td>&quot;12Alexander Schrammer&nbsp;&nbsp;/&nbsp;&nbsp;Sand…</td><td>&quot;Alexander Schrammer&nbsp;&nbsp;/&nbsp;&nbsp;Sandin…</td></tr><tr><td>&quot;Ergebnis der 1. Zwischenrunde&quot;</td><td>&quot;14Andreas Werilly&nbsp;&nbsp;/&nbsp;&nbsp;Iryna Iv…</td><td>&quot;Andreas Werilly&nbsp;&nbsp;/&nbsp;&nbsp;Iryna Ivan…</td></tr><tr><td>&quot;Ergebnis der 1. Zwischenrunde&quot;</td><td>&quot;15Tobias Zander&nbsp;&nbsp;/&nbsp;&nbsp;Magdalena …</td><td>&quot;Tobias Zander&nbsp;&nbsp;/&nbsp;&nbsp;Magdalena Ku…</td></tr><tr><td>&quot;Ergebnis der 1. Zwischenrunde&quot;</td><td>&quot;&quot;</td><td>&quot;&quot;</td></tr><tr><td>&quot;Ergebnis der 1. Zwischenrunde&quot;</td><td>&quot;&quot;</td><td>&quot;&quot;</td></tr></tbody></table></div>"
      ],
      "text/plain": [
       "shape: (103, 3)\n",
       "┌───────────────────────────────┬─────────────────────────────────┬────────────────────────────────┐\n",
       "│ round                         ┆ number                          ┆ names                          │\n",
       "│ ---                           ┆ ---                             ┆ ---                            │\n",
       "│ str                           ┆ str                             ┆ str                            │\n",
       "╞═══════════════════════════════╪═════════════════════════════════╪════════════════════════════════╡\n",
       "│ Ergebnis der Vorrunde         ┆ 1Bennett Busack  /  Madlen Lüd… ┆ Bennett Busack  /  Madlen      │\n",
       "│                               ┆                                 ┆ Lüde…                          │\n",
       "│ Ergebnis der Vorrunde         ┆ 2Dirk Döhler  /  Anna Maria Th… ┆ Dirk Döhler  /  Anna Maria     │\n",
       "│                               ┆                                 ┆ Thi…                           │\n",
       "│ Ergebnis der Vorrunde         ┆ 3Sascha Hess  /  Beatrice von … ┆ Sascha Hess  /  Beatrice von   │\n",
       "│                               ┆                                 ┆ B…                             │\n",
       "│ Ergebnis der Vorrunde         ┆ 4Florian Hißnauer  /  Nina Vos… ┆ Florian Hißnauer  /  Nina      │\n",
       "│                               ┆                                 ┆ Vosk…                          │\n",
       "│ Ergebnis der Vorrunde         ┆ 5Jan-Hinrich Jacobi  /  Stefan… ┆ Jan-Hinrich Jacobi  /          │\n",
       "│                               ┆                                 ┆ Stefani…                       │\n",
       "│ …                             ┆ …                               ┆ …                              │\n",
       "│ Ergebnis der 1. Zwischenrunde ┆ 12Alexander Schrammer  /  Sand… ┆ Alexander Schrammer  /         │\n",
       "│                               ┆                                 ┆ Sandin…                        │\n",
       "│ Ergebnis der 1. Zwischenrunde ┆ 14Andreas Werilly  /  Iryna Iv… ┆ Andreas Werilly  /  Iryna      │\n",
       "│                               ┆                                 ┆ Ivan…                          │\n",
       "│ Ergebnis der 1. Zwischenrunde ┆ 15Tobias Zander  /  Magdalena … ┆ Tobias Zander  /  Magdalena    │\n",
       "│                               ┆                                 ┆ Ku…                            │\n",
       "│ Ergebnis der 1. Zwischenrunde ┆                                 ┆                                │\n",
       "│ Ergebnis der 1. Zwischenrunde ┆                                 ┆                                │\n",
       "└───────────────────────────────┴─────────────────────────────────┴────────────────────────────────┘"
      ]
     },
     "metadata": {},
     "output_type": "display_data"
    },
    {
     "name": "stdout",
     "output_type": "stream",
     "text": [
      "committee.parquet\n"
     ]
    },
    {
     "data": {
      "text/html": [
       "<div><style>\n",
       ".dataframe > thead > tr,\n",
       ".dataframe > tbody > tr {\n",
       "  text-align: right;\n",
       "  white-space: pre-wrap;\n",
       "}\n",
       "</style>\n",
       "<small>shape: (5, 4)</small><table border=\"1\" class=\"dataframe\"><thead><tr><th>role</th><th>name</th><th>club</th><th>raw_value</th></tr><tr><td>str</td><td>str</td><td>str</td><td>str</td></tr></thead><tbody><tr><td>&quot;organizer&quot;</td><td>&quot;Hessischer Tanzsportverband&quot;</td><td>&quot;&quot;</td><td>&quot;Hessischer Tanzsportverband&quot;</td></tr><tr><td>&quot;host&quot;</td><td>&quot;Hessischer Tanzsportverband&quot;</td><td>&quot;&quot;</td><td>&quot;Hessischer Tanzsportverband&quot;</td></tr><tr><td>&quot;chairperson&quot;</td><td>&quot;Jungbluth, Kai&quot;</td><td>&quot;Tanz-Sport-Club Fischbach&quot;</td><td>&quot;Jungbluth, Kai Tanz-Sport-Club…</td></tr><tr><td>&quot;committee_member&quot;</td><td>&quot;Anhäuser, Tom Henrik&quot;</td><td>&quot;Schwarz-Silber, Frankfurt&quot;</td><td>&quot;Anhäuser, Tom Henrik Schwarz-S…</td></tr><tr><td>&quot;protocol&quot;</td><td>&quot;tanzt, EDV-Team Hessen&quot;</td><td>&quot;&quot;</td><td>&quot;tanzt, EDV-Team Hessen&quot;</td></tr></tbody></table></div>"
      ],
      "text/plain": [
       "shape: (5, 4)\n",
       "┌──────────────────┬──────────────────────────────┬─────────────────┬──────────────────────────────┐\n",
       "│ role             ┆ name                         ┆ club            ┆ raw_value                    │\n",
       "│ ---              ┆ ---                          ┆ ---             ┆ ---                          │\n",
       "│ str              ┆ str                          ┆ str             ┆ str                          │\n",
       "╞══════════════════╪══════════════════════════════╪═════════════════╪══════════════════════════════╡\n",
       "│ organizer        ┆ Hessischer Tanzsportverband  ┆                 ┆ Hessischer Tanzsportverband  │\n",
       "│ host             ┆ Hessischer Tanzsportverband  ┆                 ┆ Hessischer Tanzsportverband  │\n",
       "│ chairperson      ┆ Jungbluth, Kai               ┆ Tanz-Sport-Club ┆ Jungbluth, Kai               │\n",
       "│                  ┆                              ┆ Fischbach       ┆ Tanz-Sport-Club…             │\n",
       "│ committee_member ┆ Anhäuser, Tom Henrik         ┆ Schwarz-Silber, ┆ Anhäuser, Tom Henrik         │\n",
       "│                  ┆                              ┆ Frankfurt       ┆ Schwarz-S…                   │\n",
       "│ protocol         ┆ tanzt, EDV-Team Hessen       ┆                 ┆ tanzt, EDV-Team Hessen       │\n",
       "└──────────────────┴──────────────────────────────┴─────────────────┴──────────────────────────────┘"
      ]
     },
     "metadata": {},
     "output_type": "display_data"
    }
   ],
   "source": [
    "dir = \"../data/10_05_2024_Hgr_II_A_Latein\"\n",
    "files = os.listdir(dir)\n",
    " \n",
    "for file in files:\n",
    "    df = pl.read_parquet(os.path.join(dir, file))\n",
    "    print(file)\n",
    "    display(df)"
   ]
  },
  {
   "cell_type": "code",
   "execution_count": null,
   "metadata": {},
   "outputs": [],
   "source": []
  }
 ],
 "metadata": {
  "kernelspec": {
   "display_name": ".venv",
   "language": "python",
   "name": "python3"
  },
  "language_info": {
   "codemirror_mode": {
    "name": "ipython",
    "version": 3
   },
   "file_extension": ".py",
   "mimetype": "text/x-python",
   "name": "python",
   "nbconvert_exporter": "python",
   "pygments_lexer": "ipython3",
   "version": "3.13.5"
  }
 },
 "nbformat": 4,
 "nbformat_minor": 2
}
